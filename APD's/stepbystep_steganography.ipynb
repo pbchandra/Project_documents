{
 "cells": [
  {
   "cell_type": "code",
   "execution_count": 32,
   "metadata": {},
   "outputs": [
    {
     "name": "stdout",
     "output_type": "stream",
     "text": [
      "Enter image name(with extension) : abc.png\n",
      "Enter data to be encoded : abcd\n"
     ]
    }
   ],
   "source": [
    "from PIL import Image\n",
    "img = input(\"Enter image name(with extension) : \")\n",
    "image = Image.open(img, 'r')\n",
    "data = input(\"Enter data to be encoded : \")"
   ]
  },
  {
   "cell_type": "markdown",
   "metadata": {},
   "source": [
    "#PIL is the Python Imaging Library which provides the python interpreter with image editing capabilities\n",
    "\n",
    "The Image module provides a class with the same name which is used to represent a PIL image. \n"
   ]
  },
  {
   "cell_type": "raw",
   "metadata": {},
   "source": [
    "PIL.Image.open() Opens and identifies the given image file\n"
   ]
  },
  {
   "cell_type": "code",
   "execution_count": 33,
   "metadata": {},
   "outputs": [],
   "source": [
    "#ord('a') = 97 returns unicode(ascii) value of given char\n",
    "#format(ord(i), '08b') changes unicode to 8 bit binay\n",
    "def genData(data):\n",
    " \n",
    "        # list of binary codes\n",
    "        # of given data\n",
    "        newd = [] # take a new empty list\n",
    " \n",
    "        for i in data:\n",
    "            newd.append(format(ord(i), '08b'))\n",
    "        return newd"
   ]
  },
  {
   "cell_type": "code",
   "execution_count": 41,
   "metadata": {},
   "outputs": [],
   "source": [
    "def modPix(pix, data):\n",
    " \n",
    "    datalist = genData(data)\n",
    "    print(\"List of binary codes of given data : \",datalist)\n",
    "    lendata = len(datalist)\n",
    "    \n",
    "    imdata = iter(pix)\n",
    "    ##The iter() function creates an object which can be iterated one element at a time.\n",
    "    for i in range(lendata):\n",
    " \n",
    "        # Extracting 3 pixels at a time\n",
    "        print(pix)\n",
    "        pix = [value for value in imdata.__next__()[:3] +\n",
    "                                imdata.__next__()[:3] +\n",
    "                                imdata.__next__()[:3]]\n",
    "        print(\"after next\",pix)\n",
    "        # Pixel value should be made\n",
    "        # odd for 1 and even for 0\n",
    "        for j in range(0, 8):\n",
    "            if (datalist[i][j] == '0' and pix[j]% 2 != 0):\n",
    "                pix[j] -= 1 #It subtracts right operand from the left operand and assign the result to left operand\n",
    " \n",
    "            elif (datalist[i][j] == '1' and pix[j] % 2 == 0):\n",
    "                if(pix[j] != 0):\n",
    "                    pix[j] -= 1\n",
    "                else:\n",
    "                    pix[j] += 1\n",
    "                # pix[j] -= 1\n",
    " \n",
    "        # Eighth pixel of every set tells\n",
    "        # whether to stop ot read further.\n",
    "        # 0 means keep reading; 1 means thec\n",
    "        # message is over.\n",
    "        if (i == lendata - 1):\n",
    "            if (pix[-1] % 2 == 0):\n",
    "                if(pix[-1] != 0):\n",
    "                    pix[-1] -= 1\n",
    "                else:\n",
    "                    pix[-1] += 1\n",
    " \n",
    "        else:\n",
    "            if (pix[-1] % 2 != 0):\n",
    "                pix[-1] -= 1\n",
    " \n",
    "        pix = tuple(pix)\n",
    "        yield pix[0:3]\n",
    "        yield pix[3:6]\n",
    "        yield pix[6:9]"
   ]
  },
  {
   "cell_type": "code",
   "execution_count": 42,
   "metadata": {},
   "outputs": [
    {
     "data": {
      "text/plain": [
       "<generator object modPix at 0x049B36F0>"
      ]
     },
     "execution_count": 42,
     "metadata": {},
     "output_type": "execute_result"
    }
   ],
   "source": [
    "newimg = image.copy()\n",
    "w = newimg.size[0]\n",
    "(x, y) = (0, 0)\n",
    "modPix(newimg.getdata(), data)"
   ]
  },
  {
   "cell_type": "code",
   "execution_count": 43,
   "metadata": {
    "scrolled": true
   },
   "outputs": [
    {
     "name": "stdout",
     "output_type": "stream",
     "text": [
      "List of binary codes of given data :  ['01100001', '01100010', '01100011', '01100100']\n",
      "<ImagingCore object at 0x049BC130>\n",
      "after next [255, 0, 0, 255, 0, 0, 255, 0, 0]\n",
      "(254, 1, 1, 254, 0, 0, 254, 1, 0)\n",
      "after next [255, 0, 0, 255, 0, 0, 255, 0, 0]\n",
      "(254, 1, 1, 254, 0, 0, 255, 0, 0)\n",
      "after next [255, 0, 0, 255, 0, 0, 255, 0, 0]\n",
      "(254, 1, 1, 254, 0, 0, 255, 1, 0)\n",
      "after next [255, 0, 0, 255, 0, 0, 255, 0, 0]\n"
     ]
    }
   ],
   "source": [
    "for pixel in modPix(newimg.getdata(), data):\n",
    " \n",
    "        # Putting modified pixels in the new image\n",
    "        newimg.putpixel((x, y), pixel)\n",
    "        if (x == w - 1):\n",
    "            x = 0\n",
    "            y += 1\n",
    "        else:\n",
    "            x += 1"
   ]
  },
  {
   "cell_type": "code",
   "execution_count": 37,
   "metadata": {},
   "outputs": [
    {
     "name": "stdout",
     "output_type": "stream",
     "text": [
      "Enter the name of new image(with extension) : zyz.png\n"
     ]
    }
   ],
   "source": [
    "new_img_name = input(\"Enter the name of new image(with extension) : \")\n",
    "newimg.save(new_img_name, str(new_img_name.split(\".\")[1].upper()))"
   ]
  },
  {
   "cell_type": "code",
   "execution_count": 12,
   "metadata": {},
   "outputs": [],
   "source": [
    "def decode():\n",
    "    img = input(\"Enter image name(with extension) : \")\n",
    "    image = Image.open(img, 'r')\n",
    " \n",
    "    data = ''\n",
    "    imgdata = iter(image.getdata())\n",
    " \n",
    "    while (True):\n",
    "        pixels = [value for value in imgdata.__next__()[:3] +\n",
    "                                imgdata.__next__()[:3] +\n",
    "                                imgdata.__next__()[:3]]\n",
    " \n",
    "        # string of binary data\n",
    "        binstr = ''\n",
    " \n",
    "        for i in pixels[:8]:\n",
    "            if (i % 2 == 0):\n",
    "                binstr += '0'\n",
    "            else:\n",
    "                binstr += '1'\n",
    " \n",
    "        data += chr(int(binstr, 2))\n",
    "        if (pixels[-1] % 2 != 0):\n",
    "            return data"
   ]
  },
  {
   "cell_type": "code",
   "execution_count": 13,
   "metadata": {},
   "outputs": [
    {
     "name": "stdout",
     "output_type": "stream",
     "text": [
      "Enter image name(with extension) : bhuviii.png\n"
     ]
    },
    {
     "data": {
      "text/plain": [
       "'bhuviii'"
      ]
     },
     "execution_count": 13,
     "metadata": {},
     "output_type": "execute_result"
    }
   ],
   "source": [
    "decode()"
   ]
  },
  {
   "cell_type": "code",
   "execution_count": null,
   "metadata": {},
   "outputs": [],
   "source": []
  }
 ],
 "metadata": {
  "kernelspec": {
   "display_name": "Python 3",
   "language": "python",
   "name": "python3"
  },
  "language_info": {
   "codemirror_mode": {
    "name": "ipython",
    "version": 3
   },
   "file_extension": ".py",
   "mimetype": "text/x-python",
   "name": "python",
   "nbconvert_exporter": "python",
   "pygments_lexer": "ipython3",
   "version": "3.8.0"
  }
 },
 "nbformat": 4,
 "nbformat_minor": 4
}
