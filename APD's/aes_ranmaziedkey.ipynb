{
 "cells": [
  {
   "cell_type": "code",
   "execution_count": 41,
   "metadata": {},
   "outputs": [],
   "source": [
    "import unittest\n",
    "import base64\n",
    "from py3rijndael import Rijndael\n",
    "import os\n",
    "\n",
    "def test_rijndael():\n",
    "    #key = 'qBS8uRhEIBsr8jr8vuY9uUpGFefYRL2HSTtrKhaI1tk='\n",
    "    #print(len(key))\n",
    "    #key = 'qBS8uRhEIBsr8jr8vuY9uUpGFefYRL2HSTtrKhaI1tk='\n",
    "    #key=os.urandom(32)\n",
    "    result = os.urandom(32)\n",
    "    a=input(\"Please Enter Plain text: \")\n",
    "    plain_text=a.encode('utf-8')\n",
    "    rijndael = Rijndael(result, block_size=32)\n",
    "    print(result)\n",
    "    #rijndael =Rijndael(os.urandom(32), block_size=32)\n",
    "    padded_text = plain_text.ljust(32, b'\\x1b')\n",
    "    cipher = rijndael.encrypt(padded_text)\n",
    "    cipher_text = base64.b64encode(cipher)\n",
    "    pl_txt=rijndael.decrypt(cipher)\n",
    "    pl_txt[:len(plain_text)]\n",
    "    print(pl_txt[:len(plain_text)])\n",
    "    return cipher_text"
   ]
  },
  {
   "cell_type": "code",
   "execution_count": 42,
   "metadata": {},
   "outputs": [
    {
     "name": "stdout",
     "output_type": "stream",
     "text": [
      "Please Enter Plain text: kjklj\n",
      "b'pu\\xe2\\xd5\\xc3\\x00d\\xe18\\xc7{\\x8a\\x19\\xd8\\xc9\\x92m[.9\\xb2\\x9fHFm\\xb4\\x11\\xf6l?\\xac\\x0f'\n",
      "b'kjklj'\n"
     ]
    },
    {
     "data": {
      "text/plain": [
       "b'cJsqapgl3Z3f5N1v/AT95uEb14oZ6mqKEWt9w/Ta5kg='"
      ]
     },
     "execution_count": 42,
     "metadata": {},
     "output_type": "execute_result"
    }
   ],
   "source": [
    "test_rijndael()\n"
   ]
  },
  {
   "cell_type": "code",
   "execution_count": null,
   "metadata": {},
   "outputs": [],
   "source": []
  },
  {
   "cell_type": "code",
   "execution_count": null,
   "metadata": {},
   "outputs": [],
   "source": []
  }
 ],
 "metadata": {
  "kernelspec": {
   "display_name": "Python 3",
   "language": "python",
   "name": "python3"
  },
  "language_info": {
   "codemirror_mode": {
    "name": "ipython",
    "version": 3
   },
   "file_extension": ".py",
   "mimetype": "text/x-python",
   "name": "python",
   "nbconvert_exporter": "python",
   "pygments_lexer": "ipython3",
   "version": "3.8.0"
  }
 },
 "nbformat": 4,
 "nbformat_minor": 4
}
